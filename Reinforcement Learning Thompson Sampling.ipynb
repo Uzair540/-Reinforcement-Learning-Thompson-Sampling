{
 "cells": [
  {
   "cell_type": "code",
   "execution_count": 4,
   "metadata": {},
   "outputs": [
    {
     "data": {
      "image/png": "[encoded data removed]",
      "text/plain": [
       "<Figure size 432x288 with 1 Axes>"
      ]
     },
     "metadata": {
      "needs_background": "light"
     },
     "output_type": "display_data"
    }
   ],
   "source": [
    "#Thopson sampling Algorithm\n",
    "%matplotlib inline\n",
    "import numpy as np\n",
    "import matplotlib.pyplot as plt\n",
    "import pandas as pd\n",
    "import warnings\n",
    "warnings.filterwarnings(\"ignore\", category=FutureWarning)\n",
    "from matplotlib.axes._axes import _log as matplotlib_axes_logger\n",
    "matplotlib_axes_logger.setLevel('ERROR')\n",
    "#importing the  dataset\n",
    "dataset=pd.read_csv('E:\\\\machine leraning\\\\Machine Learning A-Z\\\\Part 6 - Reinforcement Learning\\\\Section 33 - Thompson Sampling\\\\Ads_CTR_Optimisation.csv')\n",
    "#Implementing Thopson sampling algorithm\n",
    "import random\n",
    "N=10000\n",
    "d=10\n",
    "ads_selected = []\n",
    "#step1\n",
    "numbers_of_rewards_1=[0] * d\n",
    "numbers_of_rewards_0=[0] * d\n",
    "total_reward=0\n",
    "#step2\n",
    "for n in range(0,N):\n",
    "    ad=0\n",
    "    max_random=0\n",
    "    for i in range(0,d):\n",
    "       random_beta=random.betavariate(numbers_of_rewards_1[i]+1,numbers_of_rewards_0[i]+1)\n",
    "       if random_beta > max_random:\n",
    "            max_random=random_beta\n",
    "            ad=i\n",
    "    ads_selected.append(ad)\n",
    "    reward = dataset.values[n, ad]\n",
    "    if reward==1:\n",
    "        numbers_of_rewards_1[ad]=numbers_of_rewards_1[ad] + 1\n",
    "    else:\n",
    "             numbers_of_rewards_0[ad]=numbers_of_rewards_0[ad] + 1\n",
    "    total_reward=total_reward+reward\n",
    "#visualising the result\n",
    "plt.hist(ads_selected)\n",
    "plt.title('Histogram of ads selections')\n",
    "plt.xlabel('Ads')\n",
    "plt.ylabel('Number of times each ad was selected')    \n",
    "plt.show()  "
   ]
  },
  {
   "cell_type": "code",
   "execution_count": null,
   "metadata": {},
   "outputs": [],
   "source": []
  }
 ],
 "metadata": {
  "kernelspec": {
   "display_name": "Python 3",
   "language": "python",
   "name": "python3"
  },
  "language_info": {
   "codemirror_mode": {
    "name": "ipython",
    "version": 3
   },
   "file_extension": ".py",
   "mimetype": "text/x-python",
   "name": "python",
   "nbconvert_exporter": "python",
   "pygments_lexer": "ipython3",
   "version": "3.7.3"
  }
 },
 "nbformat": 4,
 "nbformat_minor": 2
}
